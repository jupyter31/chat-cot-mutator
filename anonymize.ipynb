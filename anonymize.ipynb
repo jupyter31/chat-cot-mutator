{
 "cells": [
  {
   "cell_type": "code",
   "execution_count": 10,
   "id": "8c672ae0",
   "metadata": {
    "vscode": {
     "languageId": "powershell"
    }
   },
   "outputs": [],
   "source": [
    "# setup - uncomment to run\n",
    "\n",
    "# pip install presidio_analyzer\n",
    "# pip install presidio_anonymizer\n",
    "# python -m spacy download en_core_web_lg"
   ]
  },
  {
   "cell_type": "code",
   "execution_count": 11,
   "id": "18f130e4",
   "metadata": {},
   "outputs": [],
   "source": [
    "# text with PII\n",
    "sample_text = \"On Tuesday 7th June, Jane Doe from Liverpool told me that her email address is janedoe@gmail.com.\""
   ]
  },
  {
   "cell_type": "code",
   "execution_count": 12,
   "id": "f35cec80",
   "metadata": {},
   "outputs": [
    {
     "name": "stdout",
     "output_type": "stream",
     "text": [
      "text: On <DATE_TIME>, <PERSON> from <LOCATION> told me that her email address is <EMAIL_ADDRESS>.\n",
      "items:\n",
      "[\n",
      "    {'start': 75, 'end': 90, 'entity_type': 'EMAIL_ADDRESS', 'text': '<EMAIL_ADDRESS>', 'operator': 'replace'},\n",
      "    {'start': 30, 'end': 40, 'entity_type': 'LOCATION', 'text': '<LOCATION>', 'operator': 'replace'},\n",
      "    {'start': 16, 'end': 24, 'entity_type': 'PERSON', 'text': '<PERSON>', 'operator': 'replace'},\n",
      "    {'start': 3, 'end': 14, 'entity_type': 'DATE_TIME', 'text': '<DATE_TIME>', 'operator': 'replace'}\n",
      "]\n",
      "\n"
     ]
    }
   ],
   "source": [
    "from presidio_analyzer import AnalyzerEngine\n",
    "from presidio_anonymizer import AnonymizerEngine\n",
    "from presidio_anonymizer.entities import RecognizerResult, OperatorConfig\n",
    "\n",
    "# Initialize engines\n",
    "analyzer = AnalyzerEngine()\n",
    "anonymizer = AnonymizerEngine()\n",
    "\n",
    "results = analyzer.analyze(text=sample_text, language=\"en\")\n",
    "\n",
    "# Invoke the anonymize function with the text, \n",
    "# analyzer results (potentially coming from presidio-analyzer) and\n",
    "# Operators to get the anonymization output:\n",
    "anonymization = anonymizer.anonymize(\n",
    "    text=sample_text,\n",
    "    analyzer_results=results\n",
    ")\n",
    "\n",
    "print(anonymization)"
   ]
  }
 ],
 "metadata": {
  "kernelspec": {
   "display_name": "Python 3",
   "language": "python",
   "name": "python3"
  },
  "language_info": {
   "codemirror_mode": {
    "name": "ipython",
    "version": 3
   },
   "file_extension": ".py",
   "mimetype": "text/x-python",
   "name": "python",
   "nbconvert_exporter": "python",
   "pygments_lexer": "ipython3",
   "version": "3.13.5"
  }
 },
 "nbformat": 4,
 "nbformat_minor": 5
}
